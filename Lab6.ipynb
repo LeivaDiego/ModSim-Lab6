{
 "cells": [
  {
   "cell_type": "markdown",
   "metadata": {},
   "source": [
    "# Modelación y Simulación - Laboratorio 6\n",
    "## Simulación de Eventos Discretos: Servidores\n",
    "\n",
    "---\n",
    "### Integrantes:\n",
    "- Gustavo Andrés González 21438\n",
    "- Diego Alberto Leiva 21752\n",
    "- José Pablo Orellana 21970\n",
    "- - -"
   ]
  },
  {
   "cell_type": "markdown",
   "metadata": {},
   "source": [
    "## Librerias"
   ]
  },
  {
   "cell_type": "code",
   "execution_count": 2,
   "metadata": {},
   "outputs": [],
   "source": [
    "import simpy\n",
    "import random\n",
    "import numpy as np"
   ]
  },
  {
   "cell_type": "markdown",
   "metadata": {},
   "source": [
    "## Parametros y configuraciones"
   ]
  },
  {
   "cell_type": "code",
   "execution_count": 3,
   "metadata": {},
   "outputs": [],
   "source": [
    "# Parámetros generales\n",
    "LAMBDA = 2400 / 60  # Solicitudes por segundo\n",
    "SIMULATION_TIME = 3600  # Tiempo de simulación en segundos (1 hora)\n",
    "SEED = 42  # Semilla para reproducibilidad\n",
    "\n",
    "# Configuración de los servidores\n",
    "SERVIDOR_MMC = 1  # Mountain Mega Computing tiene un solo servidor\n",
    "CAPACIDAD_MMC = 100  # Capacidad de Mountain Mega (solicitudes por segundo)\n",
    "\n",
    "SERVIDORES_PIZZITA = 10  # 10 servidores para Pizzita computing\n",
    "CAPACIDAD_PIZZITA = CAPACIDAD_MMC / 10  # Cada servidor de Pizzita tiene 1/10 de la capacidad de MMC\n",
    "\n",
    "# Variables globales para la recolección de datos\n",
    "class Metrics:\n",
    "    def __init__(self):\n",
    "        self.num_requests = 0\n",
    "        self.total_waiting_time = 0\n",
    "        self.queue_length = 0\n",
    "        self.busy_time = 0\n",
    "        self.idle_time = 0\n",
    "        self.last_exit_time = 0"
   ]
  },
  {
   "cell_type": "markdown",
   "metadata": {},
   "source": [
    "## Simulaciones"
   ]
  },
  {
   "cell_type": "code",
   "execution_count": 4,
   "metadata": {},
   "outputs": [],
   "source": [
    "def handle_request(env, server, capacity, metrics):\n",
    "    \"\"\"\n",
    "    Manejo de una solicitud en el servidor.\n",
    "    \"\"\"\n",
    "    arrival_time = env.now\n",
    "    metrics.num_requests += 1\n",
    "    \n",
    "    with server.request() as request:\n",
    "        # Cola\n",
    "        yield request\n",
    "        waiting_time = env.now - arrival_time\n",
    "        metrics.total_waiting_time += waiting_time\n",
    "        \n",
    "        # Tiempo de servicio\n",
    "        service_time = random.expovariate(1 / capacity)\n",
    "        yield env.timeout(service_time)\n",
    "        \n",
    "        metrics.busy_time += service_time\n",
    "        metrics.last_exit_time = env.now"
   ]
  },
  {
   "cell_type": "code",
   "execution_count": 5,
   "metadata": {},
   "outputs": [],
   "source": [
    "def arrival_process(env, server, capacity, metrics):\n",
    "    \"\"\"\n",
    "    Proceso de llegada de solicitudes al sistema.\n",
    "\n",
    "    Args:\n",
    "        env: entorno de simulación\n",
    "        server: servidor al que se enviarán las solicitudes\n",
    "        capacity: capacidad del servidor\n",
    "        metrics: objeto para recolectar métricas\n",
    "\n",
    "    Yields:\n",
    "        eventos de llegada de solicitudes\n",
    "    \"\"\"\n",
    "    while True:\n",
    "        # Generar nueva solicitud\n",
    "        inter_arrival_time = random.expovariate(LAMBDA)\n",
    "        yield env.timeout(inter_arrival_time)\n",
    "        \n",
    "        env.process(handle_request(env, server, capacity, metrics))"
   ]
  },
  {
   "cell_type": "code",
   "execution_count": 6,
   "metadata": {},
   "outputs": [],
   "source": [
    "\n",
    "def run_simulation(num_servers, capacity, simulation_time=SIMULATION_TIME):\n",
    "    \"\"\"\n",
    "    Función para correr la simulación de un sistema de colas.\n",
    "\n",
    "    Args:\n",
    "        num_servers: cantidad de servidores en el sistema\n",
    "        capacity: capacidad de cada servidor\n",
    "        simulation_time: tiempo de simulación\n",
    "\n",
    "    Returns:\n",
    "        diccionario con las métricas de la simulación\n",
    "    \"\"\"\n",
    "    random.seed(SEED)\n",
    "    env = simpy.Environment()\n",
    "    \n",
    "    server = simpy.Resource(env, capacity=num_servers)\n",
    "    metrics = Metrics()\n",
    "    \n",
    "    env.process(arrival_process(env, server, capacity, metrics))\n",
    "    \n",
    "    env.run(until=simulation_time)\n",
    "    \n",
    "    metrics.idle_time = simulation_time * num_servers - metrics.busy_time\n",
    "    avg_waiting_time = metrics.total_waiting_time / metrics.num_requests if metrics.num_requests > 0 else 0\n",
    "    avg_queue_length = metrics.total_waiting_time / simulation_time\n",
    "    \n",
    "    return {\n",
    "        \"Solicitudes atendidas\": metrics.num_requests,\n",
    "        \"Tiempo ocupado\": metrics.busy_time,\n",
    "        \"Tiempo desocupado\": metrics.idle_time,\n",
    "        \"Tiempo total en cola\": metrics.total_waiting_time,\n",
    "        \"Tiempo promedio en cola\": avg_waiting_time,\n",
    "        \"Promedio solicitudes en cola\": avg_queue_length,\n",
    "        \"Última solicitud salida\": metrics.last_exit_time\n",
    "    }\n"
   ]
  },
  {
   "cell_type": "markdown",
   "metadata": {},
   "source": [
    "## Resultados"
   ]
  },
  {
   "cell_type": "code",
   "execution_count": 7,
   "metadata": {},
   "outputs": [],
   "source": [
    "def pretty_print(metrics):\n",
    "    \"\"\"\n",
    "    Función para imprimir las métricas de la simulación de forma legible.\n",
    "\n",
    "    Args:\n",
    "        metrics: diccionario con las métricas de la simulación\n",
    "\n",
    "    Returns:\n",
    "        None\n",
    "    \"\"\"\n",
    "    print(\"Métricas de la simulación:\")\n",
    "    for metric, value in metrics.items():\n",
    "        print(f\"{metric}: {value:.2f}\")"
   ]
  },
  {
   "cell_type": "code",
   "execution_count": 8,
   "metadata": {},
   "outputs": [
    {
     "name": "stdout",
     "output_type": "stream",
     "text": [
      "Mountain Mega Computing:\n",
      "Métricas de la simulación:\n",
      "Solicitudes atendidas: 143916.00\n",
      "Tiempo ocupado: 3544.34\n",
      "Tiempo desocupado: 55.66\n",
      "Tiempo total en cola: 78898.24\n",
      "Tiempo promedio en cola: 0.55\n",
      "Promedio solicitudes en cola: 21.92\n",
      "Última solicitud salida: 3544.37\n"
     ]
    }
   ],
   "source": [
    "# Simulación para Mountain Mega Computing\n",
    "result_mmc = run_simulation(SERVIDOR_MMC, CAPACIDAD_MMC)\n",
    "print(\"Mountain Mega Computing:\")\n",
    "pretty_print(result_mmc)"
   ]
  },
  {
   "cell_type": "code",
   "execution_count": 9,
   "metadata": {},
   "outputs": [
    {
     "name": "stdout",
     "output_type": "stream",
     "text": [
      "\n",
      "Pizzita Computing:\n",
      "Métricas de la simulación:\n",
      "Solicitudes atendidas: 143949.00\n",
      "Tiempo ocupado: 35923.21\n",
      "Tiempo desocupado: 76.79\n",
      "Tiempo total en cola: 6381590.65\n",
      "Tiempo promedio en cola: 44.33\n",
      "Promedio solicitudes en cola: 1772.66\n",
      "Última solicitud salida: 3599.70\n"
     ]
    }
   ],
   "source": [
    "# Simulación para Pizzita Computing\n",
    "result_pizzita = run_simulation(SERVIDORES_PIZZITA, CAPACIDAD_PIZZITA)\n",
    "print(\"\\nPizzita Computing:\")\n",
    "pretty_print(result_pizzita)"
   ]
  },
  {
   "cell_type": "markdown",
   "metadata": {},
   "source": [
    "## Tasks\n",
    "1. Modele, simule y analice el comportamiento de ambos sistemas durante una hora de ejecución de C3, y\n",
    "para cada sistema responda: \n",
    "\n",
    "    a. ¿Cuántas solicitudes atendió cada servidor?  \n",
    "        Mountain Mega Computing: 143,916 solicitudes.  \n",
    "        Pizzita Computing: 143,949 solicitudes.  \n",
    "\n",
    "    b. ¿Cuánto tiempo estuvo cada servidor ocupado?  \n",
    "        Mountain Mega Computing: 3,544.34 segundos.  \n",
    "        Pizzita Computing: 35,923.21 segundos.  \n",
    "\n",
    "    c. ¿Cuánto tiempo estuvo cada servidor desocupado (iddle)?  \n",
    "        Mountain Mega Computing: 55.66 segundos.  \n",
    "        Pizzita Computing: 76.79 segundos.  \n",
    "\n",
    "    d. ¿Cuánto tiempo en total estuvieron las solicitudes en cola?  \n",
    "        Mountain Mega Computing: 78,898.24 segundos.  \n",
    "        Pizzita Computing: 6,381,590.65 segundos.  \n",
    "\n",
    "    e. En promedio ¿cuánto tiempo estuvo cada solicitud en cola?  \n",
    "        Mountain Mega Computing: 0.55 segundos.  \n",
    "        Pizzita Computing: 44.33 segundos.  \n",
    "\n",
    "    f. En promedio, ¿cuántas solicitudes estuvieron en cola cada segundo?  \n",
    "        Mountain Mega Computing: 21.92 solicitudes.  \n",
    "        Pizzita Computing: 1,772.66 solicitudes.  \n",
    "\n",
    "    g. ¿Cuál es el momento de la salida de la última solicitud?  \n",
    "        Mountain Mega Computing: 3,544.37 segundos.  \n",
    "        Pizzita Computing: 3,599.70 segundos.  \n",
    "\n",
    "\n",
    "2. Determine empíricamente cuántos servidores se necesitaría “alquilar” en Pizzita computing para asegurar\n",
    "que siempre habrá al menos un servidor disponible para atender una solicitud dada (en otras palabras, una\n",
    "solicitud nunca tiene que esperar en cola)\n",
    "\n",
    "    Actualmente, el sistema tiene un promedio de 1,772.66 solicitudes en cola cada segundo, lo que significa que el servidor no puede atender todas las solicitudes a tiempo.\n",
    "\n",
    "    Para resolver este problema, calculamos las solicitudes atendidas por segundo y el número de servidores necesarios.\n",
    "\n",
    "    Promedio de solicitudes por segundo = 143,949/3599.7 = 40.  \n",
    "    Tiempo promedio en cola = 44.33 segundos.  \n",
    "\n",
    "    Este tiempo de espera indica que hay un embotellamiento, por lo que necesitaríamos más servidores. Para determinar el número de servidores requeridos, asumimos que el número de solicitudes que puede manejar un servidor sin generar espera es el inverso del tiempo de servicio promedio.\n",
    "\n",
    "    Número de servidores necesarios  N :\n",
    "\n",
    "    $$\n",
    "    N = \\frac{1772.66}{40} = 44.32\n",
    "    $$\n",
    "\n",
    "3. Se espera que a partir del tercer año del lanzamiento de su aplicación, la cantidad de usuarios sufra un alza,\n",
    "y por tanto deberán atender como máximo 6000 solicitudes por minuto. Resuelva el inciso 1 y 2 para esta\n",
    "nueva configuración."
   ]
  },
  {
   "cell_type": "code",
   "execution_count": 10,
   "metadata": {},
   "outputs": [],
   "source": [
    "# Parámetros generales\n",
    "LAMBDA = 6000 / 60  # Solicitudes por segundo\n",
    "SIMULATION_TIME = 3600  # Tiempo de simulación en segundos (1 hora)\n",
    "SEED = 42  # Semilla para reproducibilidad\n",
    "\n",
    "# Configuración de los servidores\n",
    "SERVIDOR_MMC = 1  # Mountain Mega Computing tiene un solo servidor\n",
    "CAPACIDAD_MMC = 100  # Capacidad de Mountain Mega (solicitudes por segundo)\n",
    "\n",
    "SERVIDORES_PIZZITA = 10  # 10 servidores para Pizzita computing\n",
    "CAPACIDAD_PIZZITA = CAPACIDAD_MMC / 10  # Cada servidor de Pizzita tiene 1/10 de la capacidad de MMC"
   ]
  },
  {
   "cell_type": "code",
   "execution_count": 11,
   "metadata": {},
   "outputs": [
    {
     "name": "stdout",
     "output_type": "stream",
     "text": [
      "Mountain Mega Computing:\n",
      "Métricas de la simulación:\n",
      "Solicitudes atendidas: 359587.00\n",
      "Tiempo ocupado: 3541.95\n",
      "Tiempo desocupado: 58.05\n",
      "Tiempo total en cola: 53152.67\n",
      "Tiempo promedio en cola: 0.15\n",
      "Promedio solicitudes en cola: 14.76\n",
      "Última solicitud salida: 3541.96\n"
     ]
    }
   ],
   "source": [
    "# Simulación para Mountain Mega Computing\n",
    "result_mmc = run_simulation(SERVIDOR_MMC, CAPACIDAD_MMC)\n",
    "print(\"Mountain Mega Computing:\")\n",
    "pretty_print(result_mmc)"
   ]
  },
  {
   "cell_type": "code",
   "execution_count": 12,
   "metadata": {},
   "outputs": [
    {
     "name": "stdout",
     "output_type": "stream",
     "text": [
      "\n",
      "Pizzita Computing:\n",
      "Métricas de la simulación:\n",
      "Solicitudes atendidas: 359641.00\n",
      "Tiempo ocupado: 35897.04\n",
      "Tiempo desocupado: 102.96\n",
      "Tiempo total en cola: 6255922.31\n",
      "Tiempo promedio en cola: 17.39\n",
      "Promedio solicitudes en cola: 1737.76\n",
      "Última solicitud salida: 3595.99\n"
     ]
    }
   ],
   "source": [
    "# Simulación para Pizzita Computing\n",
    "result_pizzita = run_simulation(SERVIDORES_PIZZITA, CAPACIDAD_PIZZITA)\n",
    "print(\"\\nPizzita Computing:\")\n",
    "pretty_print(result_pizzita)"
   ]
  },
  {
   "cell_type": "markdown",
   "metadata": {},
   "source": [
    "Promedio de solicitudes por segundo = 359641.00/3595.99 = 100\n",
    "Tiempo promedio en cola = 17.39 segundos.  \n",
    "N = 1737.76/100 = 18"
   ]
  },
  {
   "cell_type": "markdown",
   "metadata": {},
   "source": [
    "4. Emita una recomendación para la junta directiva\n",
    "\n",
    "    Mountain Mega Computing es un proveedor mucho más eficiente en cuanto a tiempo de respuesta y manejo de solicitudes, mostrando un menor tiempo en cola y mayor eficiencia operativa con menos servidores.  \n",
    "\n",
    "    Pizzita Computing tiene tiempos de espera significativamente mayores y necesitaría aumentar dramáticamente el número de servidores para poder competir con Mountain Mega Computing en términos de rendimiento y evitar tiempos de espera elevados."
   ]
  }
 ],
 "metadata": {
  "kernelspec": {
   "display_name": "ModSimL6",
   "language": "python",
   "name": "python3"
  },
  "language_info": {
   "codemirror_mode": {
    "name": "ipython",
    "version": 3
   },
   "file_extension": ".py",
   "mimetype": "text/x-python",
   "name": "python",
   "nbconvert_exporter": "python",
   "pygments_lexer": "ipython3",
   "version": "3.10.14"
  }
 },
 "nbformat": 4,
 "nbformat_minor": 2
}
