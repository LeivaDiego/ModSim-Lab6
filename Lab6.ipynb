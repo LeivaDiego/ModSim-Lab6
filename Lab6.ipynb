{
 "cells": [
  {
   "cell_type": "markdown",
   "metadata": {},
   "source": [
    "# Modelación y Simulación - Laboratorio 6\n",
    "## Simulación de Eventos Discretos: Servidores\n",
    "\n",
    "---\n",
    "### Integrantes:\n",
    "- Gustavo Andrés González 21438\n",
    "- Diego Alberto Leiva 21752\n",
    "- José Pablo Orellana 21970\n",
    "- - -"
   ]
  }
 ],
 "metadata": {
  "kernelspec": {
   "display_name": "ModSimL6",
   "language": "python",
   "name": "python3"
  },
  "language_info": {
   "name": "python",
   "version": "3.12.5"
  }
 },
 "nbformat": 4,
 "nbformat_minor": 2
}
